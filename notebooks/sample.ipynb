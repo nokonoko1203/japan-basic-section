{
 "cells": [
  {
   "cell_type": "code",
   "execution_count": 2,
   "metadata": {},
   "outputs": [],
   "source": [
    "from japan_basic_section.grid import Grid\n",
    "from japan_basic_section.origin_coords import get_coord_info\n",
    "import os"
   ]
  },
  {
   "cell_type": "code",
   "execution_count": 3,
   "metadata": {},
   "outputs": [
    {
     "data": {
      "text/plain": [
       "((129.5, 33.0), {'JGD2000': 'EPSG:2443', 'JGD2011': 'EPSG:6669'})"
      ]
     },
     "execution_count": 3,
     "metadata": {},
     "output_type": "execute_result"
    }
   ],
   "source": [
    "system_number = 1\n",
    "info = get_coord_info(system_number)\n",
    "info"
   ]
  },
  {
   "cell_type": "code",
   "execution_count": 4,
   "metadata": {},
   "outputs": [],
   "source": [
    "crs = info[1][\"JGD2011\"]"
   ]
  },
  {
   "cell_type": "code",
   "execution_count": 5,
   "metadata": {},
   "outputs": [],
   "source": [
    "os.makedirs(\"../data/output\", exist_ok=True)"
   ]
  },
  {
   "cell_type": "code",
   "execution_count": 6,
   "metadata": {},
   "outputs": [],
   "source": [
    "g = Grid(system_number, 50000)\n",
    "grid_50000 = g.make_grid()\n",
    "grid_50000.set_crs(crs, inplace=True)\n",
    "grid_50000.to_file(\"../data/output/grid_50000.fgb\", driver=\"FlatGeobuf\")"
   ]
  },
  {
   "cell_type": "code",
   "execution_count": null,
   "metadata": {},
   "outputs": [],
   "source": [
    "g = Grid(system_number, 5000)\n",
    "grid_5000 = g.make_grid()\n",
    "grid_5000.set_crs(crs, inplace=True)\n",
    "grid_5000.to_file(\"../data/output/grid_5000.fgb\", driver=\"FlatGeobuf\")"
   ]
  },
  {
   "cell_type": "code",
   "execution_count": null,
   "metadata": {},
   "outputs": [],
   "source": [
    "g = Grid(system_number, 2500)\n",
    "grid_2500 = g.make_grid()\n",
    "grid_2500.set_crs(crs, inplace=True)\n",
    "grid_2500.to_file(\"../data/output/grid_2500.fgb\", driver=\"FlatGeobuf\")"
   ]
  },
  {
   "cell_type": "code",
   "execution_count": null,
   "metadata": {},
   "outputs": [],
   "source": [
    "g = Grid(system_number, 1000)\n",
    "grid_1000 = g.make_grid()\n",
    "grid_1000.set_crs(crs, inplace=True)\n",
    "grid_1000.to_file(\"../data/output/grid_1000.fgb\", driver=\"FlatGeobuf\")"
   ]
  },
  {
   "cell_type": "code",
   "execution_count": null,
   "metadata": {},
   "outputs": [],
   "source": [
    "g = Grid(system_number, 500)\n",
    "grid_500 = g.make_grid()\n",
    "grid_500.set_crs(crs, inplace=True)\n",
    "grid_500.to_file(\"../data/output/grid_500.fgb\", driver=\"FlatGeobuf\")"
   ]
  }
 ],
 "metadata": {
  "kernelspec": {
   "display_name": "Python 3 (ipykernel)",
   "language": "python",
   "name": "python3"
  },
  "language_info": {
   "codemirror_mode": {
    "name": "ipython",
    "version": 3
   },
   "file_extension": ".py",
   "mimetype": "text/x-python",
   "name": "python",
   "nbconvert_exporter": "python",
   "pygments_lexer": "ipython3",
   "version": "3.9.16"
  }
 },
 "nbformat": 4,
 "nbformat_minor": 4
}
